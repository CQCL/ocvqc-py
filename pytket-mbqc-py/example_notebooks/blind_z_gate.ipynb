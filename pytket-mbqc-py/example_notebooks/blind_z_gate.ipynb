{
 "cells": [
  {
   "cell_type": "markdown",
   "id": "6ea7b4f5",
   "metadata": {},
   "source": [
    "# Blind Z Gate\n",
    "\n",
    "In the following we exemplify how to implement an X gate with `pytket-mbqc`.\n",
    "\n",
    "We first initialise a graph state with 2 physical qubits and 3 logical qubits. The number of logical qubits can be higher than the number of phisical qubits if qubits are reused, as is the case here."
   ]
  },
  {
   "cell_type": "code",
   "execution_count": null,
   "id": "0f5d1768",
   "metadata": {},
   "outputs": [],
   "source": [
    "from pytket_mbqc_py import GraphCircuit\n",
    "from pytket.circuit.display import render_circuit_jupyter\n",
    "\n",
    "graph_circuit = GraphCircuit(\n",
    "    n_physical_qubits=2,\n",
    "    n_logical_qubits=3,\n",
    ")\n",
    "render_circuit_jupyter(graph_circuit)"
   ]
  },
  {
   "cell_type": "markdown",
   "id": "3515b03b",
   "metadata": {},
   "source": [
    "Note that before any operations constructing a graph state have been added there is a round of randomness generation. This randomness is saved in the `rand` registers.\n",
    "\n",
    "Next we create a linear cluster state consisting of 3 qubits. Note that vertices are measured once all of the edges they connect to are added. This allows for some qubit reuse.\n",
    "\n",
    "The measurement angles differ between vertices, being equivelent to an Z gate. The input is |+>, and the measurements are in the hadamard bases."
   ]
  },
  {
   "cell_type": "code",
   "execution_count": null,
   "id": "041c64ba",
   "metadata": {},
   "outputs": [],
   "source": [
    "import networkx as nx\n",
    "\n",
    "input_vertex = graph_circuit.add_graph_vertex(measurement_order=0)\n",
    "\n",
    "graph_vertex = graph_circuit.add_graph_vertex(measurement_order=None)\n",
    "graph_circuit.add_edge(input_vertex, graph_vertex)\n",
    "graph_circuit.corrected_measure(vertex=input_vertex, t_multiple=4)\n",
    "\n",
    "output_vertex = graph_circuit.add_graph_vertex(measurement_order=None)\n",
    "graph_circuit.add_edge(graph_vertex, output_vertex)\n",
    "graph_circuit.corrected_measure(vertex=graph_vertex, t_multiple=4)\n",
    "\n",
    "graph_circuit.corrected_measure(vertex=output_vertex, t_multiple=0)\n",
    "\n",
    "nx.draw(graph_circuit.entanglement_graph, with_labels=True)"
   ]
  },
  {
   "cell_type": "code",
   "execution_count": null,
   "id": "f3aa21ae",
   "metadata": {},
   "outputs": [],
   "source": [
    "render_circuit_jupyter(graph_circuit)"
   ]
  },
  {
   "cell_type": "markdown",
   "id": "2493b013",
   "metadata": {},
   "source": [
    "We can now run the resulting circuit, giving the 1 state 100% of the time, as we expect."
   ]
  },
  {
   "cell_type": "code",
   "execution_count": null,
   "id": "0610798d",
   "metadata": {},
   "outputs": [],
   "source": [
    "from pytket.extensions.quantinuum import QuantinuumBackend, QuantinuumAPIOffline\n",
    "\n",
    "api_offline = QuantinuumAPIOffline()\n",
    "backend = QuantinuumBackend(device_name=\"H1-1LE\", api_handler = api_offline)\n",
    "\n",
    "output_reg = [graph_circuit.vertex_reg[output_vertex][0]]\n",
    "\n",
    "compiled_circuit = backend.get_compiled_circuit(graph_circuit)\n",
    "n_shots = 100\n",
    "result = backend.run_circuit(circuit=compiled_circuit, n_shots=n_shots)\n",
    "result.get_counts(cbits=output_reg)"
   ]
  }
 ],
 "metadata": {
  "kernelspec": {
   "display_name": "Python 3 (ipykernel)",
   "language": "python",
   "name": "python3"
  },
  "language_info": {
   "codemirror_mode": {
    "name": "ipython",
    "version": 3
   },
   "file_extension": ".py",
   "mimetype": "text/x-python",
   "name": "python",
   "nbconvert_exporter": "python",
   "pygments_lexer": "ipython3",
   "version": "3.11.7"
  }
 },
 "nbformat": 4,
 "nbformat_minor": 5
}
