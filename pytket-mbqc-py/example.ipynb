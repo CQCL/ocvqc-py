{
 "cells": [
  {
   "cell_type": "markdown",
   "id": "cd0cac24",
   "metadata": {},
   "source": [
    "# `pytket-mbqc` Simple Example\n",
    "Here we present some simple use cases of `pytket-mbqc`."
   ]
  },
  {
   "cell_type": "markdown",
   "id": "70240c3a",
   "metadata": {},
   "source": [
    "## X Gate\n",
    "The X can be implemented in brickwork style MBQC as the sequence H-Rz(pi)-H = J(pi)-H. This requires a three qubit cluster state entangle in a line. This is constructed by initialising an input qubit, a graph vertex and an output vertex. These are then connected in a line and measured together at the end."
   ]
  },
  {
   "cell_type": "code",
   "execution_count": 48,
   "id": "a73fb540",
   "metadata": {},
   "outputs": [
    {
     "name": "stdout",
     "output_type": "stream",
     "text": [
      "WASM _w[0];\n",
      "SetBits(00) index[0], index[1];\n",
      "SetBits(0) meas_0[0];\n",
      "SetBits(0) meas_1[0];\n",
      "SetBits(0) meas_2[0];\n",
      "Reset q[1];\n",
      "Reset q[2];\n",
      "SetBits(0) x_corr_0[0];\n",
      "SetBits(0) x_corr_1[0];\n",
      "SetBits(0) x_corr_2[0];\n",
      "SetBits(0) z_corr_0[0];\n",
      "SetBits(0) z_corr_1[0];\n",
      "SetBits(0) z_corr_2[0];\n",
      "WASM index[0], index[1], x_corr_0[0], _w[0];\n",
      "H q[1];\n",
      "H q[2];\n",
      "WASM index[0], index[1], z_corr_0[0], _w[0];\n",
      "CZ q[0], q[1];\n",
      "SetBits(10) index[0], index[1];\n",
      "IF ([x_corr_0[0]] == 1) THEN X q[0];\n",
      "CZ q[1], q[2];\n",
      "IF ([z_corr_0[0]] == 1) THEN Z q[0];\n",
      "H q[0];\n",
      "Measure q[0] --> meas_0[0];\n",
      "WASM meas_0[0], index[0], index[1], _w[0];\n",
      "SetBits(01) index[0], index[1];\n",
      "WASM meas_0[0], index[0], index[1], _w[0];\n",
      "SetBits(10) index[0], index[1];\n",
      "WASM index[0], index[1], x_corr_1[0], _w[0];\n",
      "WASM index[0], index[1], z_corr_1[0], _w[0];\n",
      "IF ([x_corr_1[0]] == 1) THEN X q[1];\n",
      "SetBits(01) index[0], index[1];\n",
      "IF ([z_corr_1[0]] == 1) THEN Z q[1];\n",
      "Z q[1];\n",
      "H q[1];\n",
      "Measure q[1] --> meas_1[0];\n",
      "WASM meas_1[0], index[0], index[1], _w[0];\n",
      "SetBits(01) index[0], index[1];\n",
      "WASM index[0], index[1], x_corr_2[0], _w[0];\n",
      "WASM index[0], index[1], z_corr_2[0], _w[0];\n",
      "IF ([x_corr_2[0]] == 1) THEN X q[2];\n",
      "IF ([z_corr_2[0]] == 1) THEN Z q[2];\n",
      "Measure q[2] --> output[0];\n"
     ]
    },
    {
     "data": {
      "image/png": "[encoded data removed]",
      "text/plain": [
       "<Figure size 640x480 with 1 Axes>"
      ]
     },
     "metadata": {},
     "output_type": "display_data"
    }
   ],
   "source": [
    "from pytket_mbqc_py import GraphCircuit\n",
    "from pytket.unit_id import BitRegister\n",
    "import networkx as nx\n",
    "from pytket.circuit.display import render_circuit_jupyter\n",
    "\n",
    "circuit = GraphCircuit(n_qubits_total=3)\n",
    "\n",
    "input_qubit, index_one = circuit.add_input_vertex()\n",
    "\n",
    "circuit.add_graph_vertex()\n",
    "circuit.add_edge(vertex_one=0, vertex_two=1)\n",
    "\n",
    "circuit.add_output_vertex()\n",
    "circuit.add_edge(vertex_one=1, vertex_two=2)\n",
    "\n",
    "circuit.corrected_measure(vertex=0, t_multiple=0)\n",
    "circuit.corrected_measure(vertex=1, t_multiple=4)\n",
    "circuit._apply_correction(vertex=2)\n",
    "\n",
    "output_reg = BitRegister(name='output', size=1)\n",
    "circuit.add_c_register(register=output_reg)\n",
    "circuit.Measure(qubit=circuit.output_qubits[2], bit=output_reg[0])\n",
    "\n",
    "print(*circuit.get_commands(), sep='\\n')\n",
    "nx.draw(circuit.graph, with_labels=True)"
   ]
  },
  {
   "cell_type": "markdown",
   "id": "b2716258",
   "metadata": {},
   "source": [
    "Let us run the resulting circuit. We should recover the 1 state 100% of the time as we are applying an X gate to the 0 state."
   ]
  },
  {
   "cell_type": "code",
   "execution_count": 41,
   "id": "cfb3660b",
   "metadata": {},
   "outputs": [
    {
     "data": {
      "text/plain": [
       "Counter({(1,): 100})"
      ]
     },
     "execution_count": 74,
     "metadata": {},
     "output_type": "execute_result"
    }
   ],
   "source": [
    "def get_colouring_dict(graph):\n",
    "    coloring = nx.algorithms.coloring.greedy_color(graph)\n",
    "    sorted_dict = dict(sorted(coloring.items()))\n",
    "    return sorted_dict\n"
   ]
  },
  {
   "cell_type": "code",
   "execution_count": 71,
   "id": "e377d1f8",
   "metadata": {},
   "outputs": [],
   "source": [
    "def get_colouring_lists(colouring):\n",
    "    unique_colors = set(colouring.values())\n",
    "    lists_col = [[int(value == unique) for key, value in colouring.items()] for unique in unique_colors]\n",
    "    return lists_col\n"
   ]
  },
  {
   "cell_type": "code",
   "execution_count": 72,
   "id": "dea94962",
   "metadata": {},
   "outputs": [
    {
     "name": "stdout",
     "output_type": "stream",
     "text": [
      "[[0, 1, 0], [1, 0, 1]]\n"
     ]
    }
   ],
   "source": [
    "graph = circuit.graph\n",
    "colouring = get_colouring_dict(graph)\n",
    "colouring_lists = get_colouring_lists(colouring)\n",
    "print(colouring_lists)\n"
   ]
  },
  {
   "cell_type": "code",
   "execution_count": 67,
   "id": "593bae8c",
   "metadata": {},
   "outputs": [
    {
     "data": {
      "text/plain": [
       "set"
      ]
     },
     "execution_count": 67,
     "metadata": {},
     "output_type": "execute_result"
    }
   ],
   "source": [
    "type(set(colouring.values()))\n",
    "   "
   ]
  },
  {
   "cell_type": "code",
   "execution_count": 63,
   "id": "4d7a7f83",
   "metadata": {},
   "outputs": [
    {
     "ename": "TypeError",
     "evalue": "cannot unpack non-iterable int object",
     "output_type": "error",
     "traceback": [
      "\u001b[0;31m---------------------------------------------------------------------------\u001b[0m",
      "\u001b[0;31mTypeError\u001b[0m                                 Traceback (most recent call last)",
      "Cell \u001b[0;32mIn[63], line 1\u001b[0m\n\u001b[0;32m----> 1\u001b[0m \u001b[43m[\u001b[49m\u001b[43m[\u001b[49m\u001b[38;5;28;43mint\u001b[39;49m\u001b[43m(\u001b[49m\u001b[43mvalue\u001b[49m\u001b[43m \u001b[49m\u001b[38;5;241;43m==\u001b[39;49m\u001b[43m \u001b[49m\u001b[43munique\u001b[49m\u001b[43m)\u001b[49m\u001b[43m \u001b[49m\u001b[38;5;28;43;01mfor\u001b[39;49;00m\u001b[43m \u001b[49m\u001b[43mkey\u001b[49m\u001b[43m,\u001b[49m\u001b[43m \u001b[49m\u001b[43mvalue\u001b[49m\u001b[43m \u001b[49m\u001b[38;5;129;43;01min\u001b[39;49;00m\u001b[43m \u001b[49m\u001b[43mcolouring\u001b[49m\u001b[43m]\u001b[49m\u001b[43m \u001b[49m\u001b[38;5;28;43;01mfor\u001b[39;49;00m\u001b[43m \u001b[49m\u001b[43munique\u001b[49m\u001b[43m \u001b[49m\u001b[38;5;129;43;01min\u001b[39;49;00m\u001b[43m \u001b[49m\u001b[43munique_colors\u001b[49m\u001b[43m]\u001b[49m\n",
      "Cell \u001b[0;32mIn[63], line 1\u001b[0m, in \u001b[0;36m<listcomp>\u001b[0;34m(.0)\u001b[0m\n\u001b[0;32m----> 1\u001b[0m [\u001b[43m[\u001b[49m\u001b[38;5;28;43mint\u001b[39;49m\u001b[43m(\u001b[49m\u001b[43mvalue\u001b[49m\u001b[43m \u001b[49m\u001b[38;5;241;43m==\u001b[39;49m\u001b[43m \u001b[49m\u001b[43munique\u001b[49m\u001b[43m)\u001b[49m\u001b[43m \u001b[49m\u001b[38;5;28;43;01mfor\u001b[39;49;00m\u001b[43m \u001b[49m\u001b[43mkey\u001b[49m\u001b[43m,\u001b[49m\u001b[43m \u001b[49m\u001b[43mvalue\u001b[49m\u001b[43m \u001b[49m\u001b[38;5;129;43;01min\u001b[39;49;00m\u001b[43m \u001b[49m\u001b[43mcolouring\u001b[49m\u001b[43m]\u001b[49m \u001b[38;5;28;01mfor\u001b[39;00m unique \u001b[38;5;129;01min\u001b[39;00m unique_colors]\n",
      "Cell \u001b[0;32mIn[63], line 1\u001b[0m, in \u001b[0;36m<listcomp>\u001b[0;34m(.0)\u001b[0m\n\u001b[0;32m----> 1\u001b[0m [[\u001b[38;5;28mint\u001b[39m(value \u001b[38;5;241m==\u001b[39m unique) \u001b[38;5;28;01mfor\u001b[39;00m key, value \u001b[38;5;129;01min\u001b[39;00m colouring] \u001b[38;5;28;01mfor\u001b[39;00m unique \u001b[38;5;129;01min\u001b[39;00m unique_colors]\n",
      "\u001b[0;31mTypeError\u001b[0m: cannot unpack non-iterable int object"
     ]
    }
   ],
   "source": [
    " [[int(value == unique) for key, value in colouring] for unique in unique_colors]"
   ]
  },
  {
   "cell_type": "code",
   "execution_count": 66,
   "id": "1404a351",
   "metadata": {},
   "outputs": [
    {
     "data": {
      "text/plain": [
       "dict"
      ]
     },
     "execution_count": 66,
     "metadata": {},
     "output_type": "execute_result"
    }
   ],
   "source": [
    "type(colouring)"
   ]
  },
  {
   "cell_type": "code",
   "execution_count": 44,
   "id": "d1b39ed6",
   "metadata": {},
   "outputs": [
    {
     "data": {
      "image/png": "[encoded data removed]",
      "text/plain": [
       "<Figure size 640x480 with 1 Axes>"
      ]
     },
     "metadata": {},
     "output_type": "display_data"
    }
   ],
   "source": [
    "color_map = [coloring[node] for node in G.nodes]\n",
    "\n",
    "# Draw the graph with the color map\n",
    "nx.draw(G, node_color=color_map, with_labels=True)\n"
   ]
  },
  {
   "cell_type": "code",
   "execution_count": 45,
   "id": "9fba1a38",
   "metadata": {},
   "outputs": [
    {
     "data": {
      "text/plain": [
       "Counter({(1,): 100})"
      ]
     },
     "execution_count": 45,
     "metadata": {},
     "output_type": "execute_result"
    }
   ],
   "source": [
    "from pytket_mbqc_py import get_wasm_file_handler\n",
    "from pytket.extensions.quantinuum import QuantinuumBackend, QuantinuumAPIOffline\n",
    "\n",
    "backend = QuantinuumBackend(\n",
    "    device_name=\"H1-1LE\",\n",
    "    api_handler=QuantinuumAPIOffline(),\n",
    ")\n",
    "\n",
    "compiled_circuit = backend.get_compiled_circuit(circuit)\n",
    "result = backend.run_circuit(\n",
    "    circuit=compiled_circuit,\n",
    "    n_shots=100,\n",
    "    wasm_file_handler=get_wasm_file_handler(),\n",
    ")\n",
    "\n",
    "result.get_counts(output_reg)"
   ]
  },
  {
   "cell_type": "markdown",
   "id": "f546b2ca",
   "metadata": {},
   "source": [
    "## CX Gate\n",
    "The CX gate is more complicated. In this case the gate can be decomposed into brickwork MBQC native operations as H_2 - CZ - H_1 - H-2 H_1 - H_2 - H_2 where unserscore gives the qubit the operation acts on. Recall that CZ - H_1 - H_2 is the native two qubit gate in brickwork MBQC. We can construct this circuit as follows.\n",
    "\n",
    "Note that in this case qubits can be measured before the whole graph state has been constructed. This allows for some qubits to be reused in this case."
   ]
  },
  {
   "cell_type": "code",
   "execution_count": 46,
   "id": "31d6220c",
   "metadata": {},
   "outputs": [
    {
     "data": {
      "image/png": "[encoded data removed]",
      "text/plain": [
       "<Figure size 640x480 with 1 Axes>"
      ]
     },
     "metadata": {},
     "output_type": "display_data"
    }
   ],
   "source": [
    "input_state = (1,0)\n",
    "\n",
    "circuit = GraphCircuit(n_qubits_total=5)\n",
    "\n",
    "target_qubit, _ = circuit.add_input_vertex()\n",
    "if input_state[1]:\n",
    "    circuit.X(target_qubit)\n",
    "\n",
    "circuit.add_graph_vertex()\n",
    "circuit.add_edge(vertex_one=0, vertex_two=1)\n",
    "\n",
    "control_qubit, _ = circuit.add_input_vertex()\n",
    "if input_state[0]:\n",
    "    circuit.X(control_qubit)\n",
    "\n",
    "circuit.add_graph_vertex()\n",
    "circuit.add_edge(vertex_one=1, vertex_two=3)\n",
    "circuit.corrected_measure(vertex=0, t_multiple=0)\n",
    "\n",
    "circuit.add_graph_vertex()\n",
    "circuit.add_edge(vertex_one=2, vertex_two=4)\n",
    "\n",
    "circuit.add_graph_vertex()\n",
    "circuit.add_edge(vertex_one=3, vertex_two=5)\n",
    "circuit.corrected_measure(vertex=1, t_multiple=0)\n",
    "\n",
    "circuit.add_output_vertex()\n",
    "circuit.add_edge(vertex_one=4, vertex_two=6)\n",
    "circuit.corrected_measure(vertex=2, t_multiple=0)\n",
    "\n",
    "circuit.add_output_vertex()\n",
    "circuit.add_edge(vertex_one=5, vertex_two=7)\n",
    "\n",
    "circuit.add_edge(vertex_one=5, vertex_two=6)\n",
    "\n",
    "circuit.corrected_measure(vertex=3, t_multiple=0)\n",
    "circuit.corrected_measure(vertex=4, t_multiple=0)\n",
    "circuit.corrected_measure(vertex=5, t_multiple=0)\n",
    "\n",
    "circuit.correct_outputs()\n",
    "output_reg = BitRegister(name='output', size=2)\n",
    "circuit.add_c_register(register=output_reg)\n",
    "circuit.Measure(qubit=circuit.output_qubits[6], bit=output_reg[0])\n",
    "circuit.Measure(qubit=circuit.output_qubits[7], bit=output_reg[1])\n",
    "\n",
    "nx.draw(circuit.graph, with_labels=True)"
   ]
  },
  {
   "cell_type": "markdown",
   "id": "cd49b0a3",
   "metadata": {},
   "source": [
    "Having initialised the |10> state above we expect to measure |11> 100% of the time, as we indeed do."
   ]
  },
  {
   "cell_type": "code",
   "execution_count": 47,
   "id": "ecc28967",
   "metadata": {},
   "outputs": [
    {
     "data": {
      "text/plain": [
       "Counter({(1, 1): 100})"
      ]
     },
     "execution_count": 47,
     "metadata": {},
     "output_type": "execute_result"
    }
   ],
   "source": [
    "compiled_circuit = backend.get_compiled_circuit(circuit)\n",
    "\n",
    "n_shots = 100\n",
    "result = backend.run_circuit(\n",
    "    circuit=compiled_circuit,\n",
    "    n_shots=n_shots,\n",
    "    wasm_file_handler=get_wasm_file_handler(),\n",
    ")\n",
    "\n",
    "result.get_counts(output_reg)"
   ]
  },
  {
   "cell_type": "code",
   "execution_count": 76,
   "id": "dd5ec55b",
   "metadata": {},
   "outputs": [
    {
     "data": {
      "text/plain": [
       "True"
      ]
     },
     "execution_count": 76,
     "metadata": {},
     "output_type": "execute_result"
    }
   ],
   "source": [
    "True is not False"
   ]
  },
  {
   "cell_type": "code",
   "execution_count": 77,
   "id": "427a4208",
   "metadata": {},
   "outputs": [],
   "source": [
    "def test(c,ca=None):\n",
    "    if ca is None:\n",
    "        ca = c\n",
    "    print(c, ca)"
   ]
  },
  {
   "cell_type": "code",
   "execution_count": 79,
   "id": "09362367",
   "metadata": {},
   "outputs": [
    {
     "name": "stdout",
     "output_type": "stream",
     "text": [
      "1 3\n"
     ]
    }
   ],
   "source": [
    "test(1,3)"
   ]
  },
  {
   "cell_type": "code",
   "execution_count": 82,
   "id": "1d662699",
   "metadata": {},
   "outputs": [
    {
     "name": "stdout",
     "output_type": "stream",
     "text": [
      "1\n"
     ]
    }
   ],
   "source": [
    "import random\n",
    "\n",
    "random_number = random.randint(0, 1)\n",
    "print(random_number)"
   ]
  },
  {
   "cell_type": "code",
   "execution_count": null,
   "id": "0294296f",
   "metadata": {},
   "outputs": [],
   "source": []
  },
  {
   "cell_type": "code",
   "execution_count": null,
   "id": "e6540cce",
   "metadata": {},
   "outputs": [],
   "source": []
  }
 ],
 "metadata": {
  "kernelspec": {
   "display_name": "Python 3 (ipykernel)",
   "language": "python",
   "name": "python3"
  },
  "language_info": {
   "codemirror_mode": {
    "name": "ipython",
    "version": 3
   },
   "file_extension": ".py",
   "mimetype": "text/x-python",
   "name": "python",
   "nbconvert_exporter": "python",
   "pygments_lexer": "ipython3",
   "version": "3.11.2"
  }
 },
 "nbformat": 4,
 "nbformat_minor": 5
}
