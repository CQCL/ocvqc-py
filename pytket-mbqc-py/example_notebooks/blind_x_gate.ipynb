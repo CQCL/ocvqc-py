{
 "cells": [
  {
   "cell_type": "markdown",
   "id": "6ea7b4f5",
   "metadata": {},
   "source": [
    "# Blind X Gate\n",
    "\n",
    "In the following we exemplify how to implement an X gate with `pytket-mbqc`.\n",
    "\n",
    "We first initialis a graph state with 2 physical qubits and 3 logical qubits. This is to say that 2 qubits will be added to the circuit. These will be reused to build a 3 qubit graph state."
   ]
  },
  {
   "cell_type": "code",
   "execution_count": null,
   "id": "0f5d1768",
   "metadata": {},
   "outputs": [],
   "source": [
    "from pytket_mbqc_py import GraphCircuit\n",
    "from pytket.circuit.display import render_circuit_jupyter\n",
    "\n",
    "graph_circuit = GraphCircuit(\n",
    "    n_physical_qubits=2,\n",
    "    n_logical_qubits=3\n",
    ")\n",
    "render_circuit_jupyter(graph_circuit)"
   ]
  },
  {
   "cell_type": "markdown",
   "id": "3515b03b",
   "metadata": {},
   "source": [
    "Note that before any operations constructing a graph state have been added there is a round of randomness generation. This randomness is saved in the `rand` registers.\n",
    "\n",
    "Next we create a linear cluster state consisting of 3 qubits. Note that vertices are measured once all of the edges they connect to are added. This allows for some qubit reuse.\n",
    "\n",
    "Themeasurement angles differ between vertices, being ewuivelent to an X gate. The input is initalised in the 1 computation basis state."
   ]
  },
  {
   "cell_type": "code",
   "execution_count": null,
   "id": "041c64ba",
   "metadata": {},
   "outputs": [],
   "source": [
    "import networkx as nx\n",
    "\n",
    "input_qubit, input_vertex = graph_circuit.add_input_vertex(measurement_order=0)\n",
    "graph_circuit.X(input_qubit)\n",
    "\n",
    "graph_vertex = graph_circuit.add_graph_vertex(measurement_order=1)\n",
    "graph_circuit.add_edge(input_vertex, graph_vertex)\n",
    "graph_circuit.corrected_measure(vertex=input_vertex, t_multiple=0)\n",
    "\n",
    "output_vertex = graph_circuit.add_graph_vertex(measurement_order=None)\n",
    "graph_circuit.add_edge(graph_vertex, output_vertex)\n",
    "graph_circuit.corrected_measure(vertex=graph_vertex, t_multiple=4)\n",
    "\n",
    "nx.draw(graph_circuit.entanglement_graph, with_labels=True)"
   ]
  },
  {
   "cell_type": "code",
   "execution_count": null,
   "id": "f3aa21ae",
   "metadata": {},
   "outputs": [],
   "source": [
    "render_circuit_jupyter(graph_circuit)"
   ]
  },
  {
   "cell_type": "markdown",
   "id": "2493b013",
   "metadata": {},
   "source": [
    "We can now run the resulting circuit, giving the 0 state 100% of the time, as we expect."
   ]
  },
  {
   "cell_type": "code",
   "execution_count": null,
   "id": "0610798d",
   "metadata": {},
   "outputs": [],
   "source": [
    "from pytket.extensions.quantinuum import QuantinuumBackend, QuantinuumAPIOffline\n",
    "\n",
    "api_offline = QuantinuumAPIOffline()\n",
    "backend = QuantinuumBackend(device_name=\"H1-1LE\", api_handler = api_offline)\n",
    "\n",
    "output_dict = graph_circuit.get_outputs()\n",
    "output_reg = graph_circuit.add_c_register(name='output_meas', size=1)\n",
    "graph_circuit.Measure(output_dict[output_vertex], output_reg[0])\n",
    "\n",
    "compiled_circuit = backend.get_compiled_circuit(circuit=graph_circuit)\n",
    "result = backend.run_circuit(circuit=compiled_circuit, n_shots=100)\n",
    "result.get_counts(cbits=output_reg)"
   ]
  }
 ],
 "metadata": {
  "kernelspec": {
   "display_name": "Python 3 (ipykernel)",
   "language": "python",
   "name": "python3"
  },
  "language_info": {
   "codemirror_mode": {
    "name": "ipython",
    "version": 3
   },
   "file_extension": ".py",
   "mimetype": "text/x-python",
   "name": "python",
   "nbconvert_exporter": "python",
   "pygments_lexer": "ipython3",
   "version": "3.11.7"
  }
 },
 "nbformat": 4,
 "nbformat_minor": 5
}
