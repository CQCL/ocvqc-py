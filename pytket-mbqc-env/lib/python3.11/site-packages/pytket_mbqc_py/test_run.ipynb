{
 "cells": [
  {
   "cell_type": "code",
   "execution_count": 1,
   "metadata": {},
   "outputs": [],
   "source": [
    "from pytket_mbqc_py.qubit_manager import QubitManager\n",
    "from pytket_mbqc_py.graph_circuit import GraphCircuit\n",
    "import networkx as nx\n",
    "from pytket.circuit.display import render_circuit_jupyter"
   ]
  },
  {
   "cell_type": "code",
   "execution_count": 9,
   "metadata": {},
   "outputs": [
    {
     "data": {
      "text/html": [
       "\n",
       "\n",
       "\n",
       "\n",
       "\n",
       "\n",
       "<div style=\"resize: vertical; overflow: auto; height: 400px; display: block\">\n",
       "    <iframe srcdoc=\"\n",
       "&lt;!DOCTYPE html&gt;\n",
       "&lt;html lang=&#34;en&#34;&gt;\n",
       "&lt;head&gt;\n",
       "    &lt;meta charset=&#34;UTF-8&#34;&gt;\n",
       "    &lt;!-- Download Vue 3--&gt;\n",
       "&lt;script type=&#34;application/javascript&#34; src=&#34;https://cdn.jsdelivr.net/npm/vue@3&#34;&gt;&lt;/script&gt;\n",
       "&lt;!-- Download Circuit Renderer with styles --&gt;\n",
       "&lt;script type=&#34;application/javascript&#34; src=&#34;https://unpkg.com/pytket-circuit-renderer@0.7/dist/pytket-circuit-renderer.umd.js&#34;&gt;&lt;/script&gt;\n",
       "&lt;link rel=&#34;stylesheet&#34; href=&#34;https://unpkg.com/pytket-circuit-renderer@0.7/dist/pytket-circuit-renderer.css&#34;&gt;\n",
       "&lt;/head&gt;\n",
       "&lt;body&gt;\n",
       "\n",
       "\n",
       "\n",
       "    &lt;div id=&#34;circuit-display-vue-container-e19f83a7-5a52-4fbc-a152-d3f4aa9882c2&#34; class=&#34;pytket-circuit-display-container&#34;&gt;\n",
       "        &lt;div style=&#34;display: none&#34;&gt;\n",
       "            &lt;div id=&#34;circuit-json-to-display&#34;&gt;{&#34;bits&#34;: [[&#34;index&#34;, [0]], [&#34;meas_0&#34;, [0]], [&#34;meas_1&#34;, [0]], [&#34;x_corr_0&#34;, [0]], [&#34;x_corr_1&#34;, [0]], [&#34;z_corr_0&#34;, [0]], [&#34;z_corr_1&#34;, [0]]], &#34;commands&#34;: [{&#34;args&#34;: [[&#34;meas_0&#34;, [0]]], &#34;op&#34;: {&#34;classical&#34;: {&#34;values&#34;: [false]}, &#34;type&#34;: &#34;SetBits&#34;}}, {&#34;args&#34;: [[&#34;meas_1&#34;, [0]]], &#34;op&#34;: {&#34;classical&#34;: {&#34;values&#34;: [false]}, &#34;type&#34;: &#34;SetBits&#34;}}, {&#34;args&#34;: [[&#34;q&#34;, [0]]], &#34;op&#34;: {&#34;type&#34;: &#34;Reset&#34;}}, {&#34;args&#34;: [[&#34;q&#34;, [1]]], &#34;op&#34;: {&#34;type&#34;: &#34;Reset&#34;}}, {&#34;args&#34;: [[&#34;x_corr_0&#34;, [0]]], &#34;op&#34;: {&#34;classical&#34;: {&#34;values&#34;: [false]}, &#34;type&#34;: &#34;SetBits&#34;}}, {&#34;args&#34;: [[&#34;x_corr_1&#34;, [0]]], &#34;op&#34;: {&#34;classical&#34;: {&#34;values&#34;: [false]}, &#34;type&#34;: &#34;SetBits&#34;}}, {&#34;args&#34;: [[&#34;z_corr_0&#34;, [0]]], &#34;op&#34;: {&#34;classical&#34;: {&#34;values&#34;: [false]}, &#34;type&#34;: &#34;SetBits&#34;}}, {&#34;args&#34;: [[&#34;z_corr_1&#34;, [0]]], &#34;op&#34;: {&#34;classical&#34;: {&#34;values&#34;: [false]}, &#34;type&#34;: &#34;SetBits&#34;}}, {&#34;args&#34;: [[&#34;q&#34;, [0]]], &#34;op&#34;: {&#34;type&#34;: &#34;H&#34;}}, {&#34;args&#34;: [[&#34;q&#34;, [1]]], &#34;op&#34;: {&#34;type&#34;: &#34;H&#34;}}, {&#34;args&#34;: [[&#34;x_corr_0&#34;, [0]]], &#34;op&#34;: {&#34;classical&#34;: {&#34;values&#34;: [false]}, &#34;type&#34;: &#34;SetBits&#34;}}, {&#34;args&#34;: [[&#34;z_corr_0&#34;, [0]]], &#34;op&#34;: {&#34;classical&#34;: {&#34;values&#34;: [false]}, &#34;type&#34;: &#34;SetBits&#34;}}, {&#34;args&#34;: [[&#34;q&#34;, [0]]], &#34;op&#34;: {&#34;params&#34;: [&#34;0.4&#34;], &#34;type&#34;: &#34;Rz&#34;}}, {&#34;args&#34;: [[&#34;q&#34;, [0]], [&#34;q&#34;, [1]]], &#34;op&#34;: {&#34;type&#34;: &#34;CZ&#34;}}, {&#34;args&#34;: [[&#34;q&#34;, [0]], [&#34;meas_0&#34;, [0]]], &#34;op&#34;: {&#34;type&#34;: &#34;Measure&#34;}}, {&#34;args&#34;: [[&#34;meas_0&#34;, [0]]], &#34;op&#34;: {&#34;classical&#34;: {&#34;values&#34;: [false]}, &#34;type&#34;: &#34;SetBits&#34;}}, {&#34;args&#34;: [[&#34;q&#34;, [0]]], &#34;op&#34;: {&#34;type&#34;: &#34;Reset&#34;}}, {&#34;args&#34;: [[&#34;q&#34;, [0]]], &#34;op&#34;: {&#34;type&#34;: &#34;H&#34;}}], &#34;created_qubits&#34;: [], &#34;discarded_qubits&#34;: [], &#34;implicit_permutation&#34;: [[[&#34;q&#34;, [0]], [&#34;q&#34;, [0]]], [[&#34;q&#34;, [1]], [&#34;q&#34;, [1]]]], &#34;phase&#34;: &#34;0.0&#34;, &#34;qubits&#34;: [[&#34;q&#34;, [0]], [&#34;q&#34;, [1]]]}&lt;/div&gt;\n",
       "        &lt;/div&gt;\n",
       "        &lt;circuit-display-container\n",
       "                :circuit-element-str=&#34;&#39;#circuit-json-to-display&#39;&#34;\n",
       "                :init-render-options=&#34;initRenderOptions&#34;\n",
       "        &gt;&lt;/circuit-display-container&gt;\n",
       "    &lt;/div&gt;\n",
       "    &lt;script type=&#34;application/javascript&#34;&gt;\n",
       "      const circuitRendererUid = &#34;e19f83a7-5a52-4fbc-a152-d3f4aa9882c2&#34;;\n",
       "      const displayOptions = JSON.parse(&#39;{}&#39;);\n",
       "\n",
       "      // Script to initialise the circuit renderer app\n",
       "\n",
       "const { createApp } = Vue;\n",
       "const circuitDisplayContainer = window[&#34;pytket-circuit-renderer&#34;].default;\n",
       "// Init variables to be shared between circuit display instances\n",
       "if (typeof window.pytketCircuitDisplays === &#34;undefined&#34;) {\n",
       "    window.pytketCircuitDisplays = {};\n",
       "}\n",
       "// Create the root Vue component\n",
       "const app = createApp({\n",
       "    delimiters: [&#39;[[#&#39;, &#39;#]]&#39;],\n",
       "    components: { circuitDisplayContainer },\n",
       "    data () {\n",
       "      return {\n",
       "        initRenderOptions: displayOptions,\n",
       "      }\n",
       "    }\n",
       "})\n",
       "app.config.unwrapInjectedRef = true;\n",
       "app.mount(&#34;#circuit-display-vue-container-&#34;+circuitRendererUid);\n",
       "window.pytketCircuitDisplays[circuitRendererUid] = app;\n",
       "    &lt;/script&gt;\n",
       "\n",
       "\n",
       "\n",
       "&lt;/body&gt;\n",
       "&lt;/html&gt;\n",
       "\"\n",
       "            width=\"100%\" height=\"100%\"\n",
       "            style=\"border: none; outline: none; overflow: auto\"></iframe>\n",
       "</div>\n",
       "\n"
      ],
      "text/plain": [
       "<IPython.core.display.HTML object>"
      ]
     },
     "metadata": {},
     "output_type": "display_data"
    }
   ],
   "source": [
    "circuit = QubitManager(n_qubits=2)\n",
    "qubit_one = circuit.get_plus_state(angle = 0.4)\n",
    "qubit_two = circuit.get_plus_state()\n",
    "circuit.CZ(qubit_one, qubit_two)\n",
    "circuit.managed_measure(qubit=qubit_one)\n",
    "qubit_three = circuit.get_plus_state()\n",
    "render_circuit_jupyter(circuit)"
   ]
  },
  {
   "cell_type": "code",
   "execution_count": 5,
   "metadata": {},
   "outputs": [],
   "source": [
    "circuit = GraphCircuit(n_qubits_total=3)\n",
    "qubit_one, index_one = circuit.add_input_vertex()\n",
    "index_two = circuit.add_graph_vertex(t_multiple = 14)"
   ]
  },
  {
   "cell_type": "code",
   "execution_count": 4,
   "metadata": {},
   "outputs": [
    {
     "ename": "RuntimeError",
     "evalue": "Value 4 cannot be held on a 2-bit register.",
     "output_type": "error",
     "traceback": [
      "\u001b[0;31m---------------------------------------------------------------------------\u001b[0m",
      "\u001b[0;31mRuntimeError\u001b[0m                              Traceback (most recent call last)",
      "Cell \u001b[0;32mIn[4], line 4\u001b[0m\n\u001b[1;32m      2\u001b[0m index_three \u001b[38;5;241m=\u001b[39m circuit\u001b[38;5;241m.\u001b[39madd_output_vertex()\n\u001b[1;32m      3\u001b[0m circuit\u001b[38;5;241m.\u001b[39madd_edge(index_two, index_three)\n\u001b[0;32m----> 4\u001b[0m \u001b[43mcircuit\u001b[49m\u001b[38;5;241;43m.\u001b[39;49m\u001b[43mcorrected_measure\u001b[49m\u001b[43m(\u001b[49m\u001b[43mvertex\u001b[49m\u001b[38;5;241;43m=\u001b[39;49m\u001b[43mindex_one\u001b[49m\u001b[43m)\u001b[49m\n\u001b[1;32m      5\u001b[0m circuit\u001b[38;5;241m.\u001b[39mcorrected_measure(vertex\u001b[38;5;241m=\u001b[39mindex_two)\n\u001b[1;32m      6\u001b[0m render_circuit_jupyter(circuit)\n",
      "File \u001b[0;32m~/Projects/pytket-mbqc/pytket-mbqc-env/lib/python3.11/site-packages/pytket_mbqc_py/graph_circuit.py:250\u001b[0m, in \u001b[0;36mGraphCircuit.corrected_measure\u001b[0;34m(self, vertex, t_multiple)\u001b[0m\n\u001b[1;32m    247\u001b[0m \u001b[38;5;66;03m# Check that the vertex being updated has not been measued\u001b[39;00m\n\u001b[1;32m    248\u001b[0m \u001b[38;5;28;01massert\u001b[39;00m \u001b[38;5;129;01mnot\u001b[39;00m \u001b[38;5;28mself\u001b[39m\u001b[38;5;241m.\u001b[39mvertex_measured[neigibour]\n\u001b[0;32m--> 250\u001b[0m \u001b[38;5;28;43mself\u001b[39;49m\u001b[38;5;241;43m.\u001b[39;49m\u001b[43madd_c_setreg\u001b[49m\u001b[43m(\u001b[49m\u001b[43mvalue\u001b[49m\u001b[38;5;241;43m=\u001b[39;49m\u001b[43mneigibour\u001b[49m\u001b[43m,\u001b[49m\u001b[43m \u001b[49m\u001b[43marg\u001b[49m\u001b[38;5;241;43m=\u001b[39;49m\u001b[38;5;28;43mself\u001b[39;49m\u001b[38;5;241;43m.\u001b[39;49m\u001b[43mindex_reg\u001b[49m\u001b[43m)\u001b[49m\n\u001b[1;32m    251\u001b[0m \u001b[38;5;28mself\u001b[39m\u001b[38;5;241m.\u001b[39madd_wasm_to_reg(\n\u001b[1;32m    252\u001b[0m     \u001b[38;5;124m\"\u001b[39m\u001b[38;5;124mupdate_z_correction\u001b[39m\u001b[38;5;124m\"\u001b[39m,\n\u001b[1;32m    253\u001b[0m     \u001b[38;5;28mself\u001b[39m\u001b[38;5;241m.\u001b[39mwfh,\n\u001b[1;32m    254\u001b[0m     [\u001b[38;5;28mself\u001b[39m\u001b[38;5;241m.\u001b[39mqubit_meas_reg[\u001b[38;5;28mself\u001b[39m\u001b[38;5;241m.\u001b[39mvertex_qubit[vertex]], \u001b[38;5;28mself\u001b[39m\u001b[38;5;241m.\u001b[39mindex_reg],\n\u001b[1;32m    255\u001b[0m     [],\n\u001b[1;32m    256\u001b[0m )\n",
      "\u001b[0;31mRuntimeError\u001b[0m: Value 4 cannot be held on a 2-bit register."
     ]
    }
   ],
   "source": [
    "\n",
    "circuit.add_edge(index_one, index_two)\n",
    "index_three = circuit.add_output_vertex()\n",
    "circuit.add_edge(index_two, index_three)\n",
    "circuit.corrected_measure(vertex=index_one)\n",
    "circuit.corrected_measure(vertex=index_two)\n",
    "render_circuit_jupyter(circuit)"
   ]
  },
  {
   "cell_type": "code",
   "execution_count": 8,
   "metadata": {},
   "outputs": [
    {
     "data": {
      "image/png": "[encoded data removed]",
      "text/plain": [
       "<Figure size 640x480 with 1 Axes>"
      ]
     },
     "metadata": {},
     "output_type": "display_data"
    }
   ],
   "source": [
    "nx.draw(circuit.graph, with_labels=True)"
   ]
  },
  {
   "cell_type": "code",
   "execution_count": 4,
   "metadata": {},
   "outputs": [
    {
     "data": {
      "text/plain": [
       "0"
      ]
     },
     "execution_count": 4,
     "metadata": {},
     "output_type": "execute_result"
    }
   ],
   "source": [
    "4%4//2"
   ]
  },
  {
   "cell_type": "code",
   "execution_count": 7,
   "metadata": {},
   "outputs": [
    {
     "data": {
      "text/plain": [
       "[]"
      ]
     },
     "execution_count": 7,
     "metadata": {},
     "output_type": "execute_result"
    }
   ],
   "source": [
    "[i for i in range(0)]"
   ]
  },
  {
   "cell_type": "code",
   "execution_count": null,
   "metadata": {},
   "outputs": [],
   "source": []
  }
 ],
 "metadata": {
  "kernelspec": {
   "display_name": "pytket-mbqc-env",
   "language": "python",
   "name": "python3"
  },
  "language_info": {
   "codemirror_mode": {
    "name": "ipython",
    "version": 3
   },
   "file_extension": ".py",
   "mimetype": "text/x-python",
   "name": "python",
   "nbconvert_exporter": "python",
   "pygments_lexer": "ipython3",
   "version": "3.11.2"
  }
 },
 "nbformat": 4,
 "nbformat_minor": 2
}
