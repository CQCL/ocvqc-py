{
 "cells": [
  {
   "cell_type": "code",
   "execution_count": 31,
   "metadata": {},
   "outputs": [],
   "source": [
    "from pytket_mbqc_py.qubit_manager import QubitManager\n",
    "from pytket_mbqc_py.graph_circuit import GraphCircuit\n",
    "from pytket_mbqc_py.wasm_file_handler import get_wasm_file_handler\n",
    "from pytket.unit_id import BitRegister\n",
    "from pytket.extensions.quantinuum import QuantinuumBackend, QuantinuumAPIOffline\n",
    "import networkx as nx\n",
    "from pytket.circuit.display import render_circuit_jupyter\n",
    "import numpy as np"
   ]
  },
  {
   "cell_type": "code",
   "execution_count": 11,
   "metadata": {},
   "outputs": [
    {
     "data": {
      "text/plain": [
       "[1]"
      ]
     },
     "execution_count": 11,
     "metadata": {},
     "output_type": "execute_result"
    }
   ],
   "source": [
    "circuit = GraphCircuit(n_qubits_total=6)\n",
    "circuit.add_input_vertex()\n",
    "circuit.add_graph_vertex()\n",
    "circuit.vertex_qubit[1].index"
   ]
  },
  {
   "cell_type": "code",
   "execution_count": 14,
   "metadata": {},
   "outputs": [
    {
     "data": {
      "text/plain": [
       "{'index_0': 0,\n",
       " 'index_1': 1,\n",
       " 'index_2': 2,\n",
       " 'index_3': 3,\n",
       " 'index_4': 4,\n",
       " 'index_5': 5}"
      ]
     },
     "execution_count": 14,
     "metadata": {},
     "output_type": "execute_result"
    }
   ],
   "source": [
    "circuit = GraphCircuit(n_qubits_total=6)\n",
    "index_dict = {}\n",
    "\n",
    "\n",
    "for i in range(6):\n",
    "    if i == 0:\n",
    "        qubit_one, index_dict[f\"index_{i}\"] = circuit.add_input_vertex()\n",
    "    elif i == 5:\n",
    "        index_dict[f\"index_{i}\"] = circuit.add_output_vertex()\n",
    "    else:\n",
    "        index_dict[f\"index_{i}\"] = circuit.add_graph_vertex()\n",
    "\n",
    "\n",
    "index_dict\n"
   ]
  },
  {
   "cell_type": "code",
   "execution_count": 16,
   "metadata": {},
   "outputs": [
    {
     "name": "stdout",
     "output_type": "stream",
     "text": [
      "Qubit index 1: q[0] and 2 is q[1]\n",
      "Qubit index 1: q[1] and 2 is q[2]\n",
      "Qubit index 1: q[2] and 2 is q[3]\n",
      "Qubit index 1: q[3] and 2 is q[4]\n",
      "Qubit index 1: q[4] and 2 is q[5]\n"
     ]
    }
   ],
   "source": [
    "keys = sorted(index_dict.keys())\n",
    "for i in range(1, len(keys)):\n",
    "    key_i = keys[i]\n",
    "    key_i_minus_1 = keys[i - 1]\n",
    "    vertex_i = index_dict[key_i]\n",
    "    vertex_i_minus_1 = index_dict[key_i_minus_1]\n",
    "    circuit.add_edge(vertex_i_minus_1, vertex_i)\n"
   ]
  },
  {
   "cell_type": "code",
   "execution_count": 17,
   "metadata": {},
   "outputs": [
    {
     "name": "stdout",
     "output_type": "stream",
     "text": [
      "0\n",
      "1\n",
      "2\n",
      "3\n",
      "4\n"
     ]
    }
   ],
   "source": [
    "keys = sorted(index_dict.keys())\n",
    "for i in range(len(keys)-1):   \n",
    "    vertex_i = index_dict[keys[i]]\n",
    "    print(vertex_i)\n",
    "    circuit.corrected_measure(vertex=vertex_i)"
   ]
  },
  {
   "cell_type": "code",
   "execution_count": 18,
   "metadata": {},
   "outputs": [
    {
     "data": {
      "image/png": "[encoded data removed]",
      "text/plain": [
       "<Figure size 640x480 with 1 Axes>"
      ]
     },
     "metadata": {},
     "output_type": "display_data"
    }
   ],
   "source": [
    "nx.draw(circuit.graph, with_labels=True)"
   ]
  },
  {
   "cell_type": "code",
   "execution_count": 19,
   "metadata": {},
   "outputs": [
    {
     "data": {
      "text/plain": [
       "BitRegister(\"output\", 1)"
      ]
     },
     "execution_count": 19,
     "metadata": {},
     "output_type": "execute_result"
    }
   ],
   "source": [
    "circuit.correct_outputs()\n",
    "output_reg = BitRegister(name=\"output\", size=1)\n",
    "circuit.add_c_register(register=output_reg)\n"
   ]
  },
  {
   "cell_type": "code",
   "execution_count": 20,
   "metadata": {},
   "outputs": [
    {
     "data": {
      "text/plain": [
       "[WASM _w[0]; SetBits(000) index[0], index[1], index[2]; SetBits(0) init_t_mult_0[0]; SetBits(0) init_t_mult_1[0]; SetBits(0) init_t_mult_2[0]; SetBits(0) init_t_mult_3[0]; SetBits(0) init_t_mult_4[0]; SetBits(0) init_t_mult_5[0]; SetBits(0) meas_0[0]; SetBits(0) meas_1[0]; SetBits(0) meas_2[0]; SetBits(0) meas_3[0]; SetBits(0) meas_4[0]; SetBits(0) meas_5[0]; Reset q[1]; Reset q[2]; Reset q[3]; Reset q[4]; Reset q[5]; SetBits(0) x_corr_0[0]; SetBits(0) x_corr_1[0]; SetBits(0) x_corr_2[0]; SetBits(0) x_corr_3[0]; SetBits(0) x_corr_4[0]; SetBits(0) x_corr_5[0]; SetBits(0) z_corr_0[0]; SetBits(0) z_corr_1[0]; SetBits(0) z_corr_2[0]; SetBits(0) z_corr_3[0]; SetBits(0) z_corr_4[0]; SetBits(0) z_corr_5[0]; SetBits(0) init_t_mult_0[0]; SetBits(0) init_t_mult_1[0]; SetBits(0) init_t_mult_2[0]; SetBits(0) init_t_mult_3[0]; SetBits(0) init_t_mult_4[0]; H q[1]; H q[2]; H q[3]; H q[4]; H q[5]; WASM init_t_mult_0[0], index[0], index[1], index[2], _w[0]; CZ q[0], q[1]; SetBits(100) index[0], index[1], index[2]; CZ q[1], q[2]; WASM init_t_mult_1[0], index[0], index[1], index[2], _w[0]; CZ q[0], q[1]; CZ q[2], q[3]; SetBits(010) index[0], index[1], index[2]; CZ q[1], q[2]; CZ q[3], q[4]; WASM init_t_mult_2[0], index[0], index[1], index[2], _w[0]; CZ q[2], q[3]; CZ q[4], q[5]; SetBits(110) index[0], index[1], index[2]; CZ q[3], q[4]; WASM init_t_mult_3[0], index[0], index[1], index[2], _w[0]; CZ q[4], q[5]; SetBits(001) index[0], index[1], index[2]; WASM init_t_mult_4[0], index[0], index[1], index[2], _w[0]; SetBits(000) index[0], index[1], index[2]; WASM index[0], index[1], index[2], x_corr_0[0], _w[0]; WASM index[0], index[1], index[2], z_corr_0[0], _w[0]; IF ([x_corr_0[0]] == 1) THEN X q[0]; SetBits(100) index[0], index[1], index[2]; IF ([z_corr_0[0]] == 1) THEN Z q[0]; H q[0]; Measure q[0] --> meas_0[0]; WASM meas_0[0], index[0], index[1], index[2], _w[0]; SetBits(010) index[0], index[1], index[2]; WASM meas_0[0], index[0], index[1], index[2], _w[0]; SetBits(100) index[0], index[1], index[2]; WASM index[0], index[1], index[2], x_corr_1[0], _w[0]; WASM index[0], index[1], index[2], z_corr_1[0], _w[0]; IF ([x_corr_1[0]] == 1) THEN X q[1]; SetBits(010) index[0], index[1], index[2]; IF ([z_corr_1[0]] == 1) THEN Z q[1]; H q[1]; Measure q[1] --> meas_1[0]; WASM meas_1[0], index[0], index[1], index[2], _w[0]; SetBits(110) index[0], index[1], index[2]; WASM meas_1[0], index[0], index[1], index[2], _w[0]; SetBits(010) index[0], index[1], index[2]; WASM index[0], index[1], index[2], x_corr_2[0], _w[0]; WASM index[0], index[1], index[2], z_corr_2[0], _w[0]; IF ([x_corr_2[0]] == 1) THEN X q[2]; SetBits(110) index[0], index[1], index[2]; IF ([z_corr_2[0]] == 1) THEN Z q[2]; H q[2]; Measure q[2] --> meas_2[0]; WASM meas_2[0], index[0], index[1], index[2], _w[0]; SetBits(001) index[0], index[1], index[2]; WASM meas_2[0], index[0], index[1], index[2], _w[0]; SetBits(110) index[0], index[1], index[2]; WASM index[0], index[1], index[2], x_corr_3[0], _w[0]; WASM index[0], index[1], index[2], z_corr_3[0], _w[0]; IF ([x_corr_3[0]] == 1) THEN X q[3]; SetBits(001) index[0], index[1], index[2]; IF ([z_corr_3[0]] == 1) THEN Z q[3]; H q[3]; Measure q[3] --> meas_3[0]; WASM meas_3[0], index[0], index[1], index[2], _w[0]; SetBits(101) index[0], index[1], index[2]; WASM meas_3[0], index[0], index[1], index[2], _w[0]; SetBits(001) index[0], index[1], index[2]; WASM index[0], index[1], index[2], x_corr_4[0], _w[0]; WASM index[0], index[1], index[2], z_corr_4[0], _w[0]; IF ([x_corr_4[0]] == 1) THEN X q[4]; SetBits(101) index[0], index[1], index[2]; IF ([z_corr_4[0]] == 1) THEN Z q[4]; H q[4]; Measure q[4] --> meas_4[0]; WASM meas_4[0], index[0], index[1], index[2], _w[0]; SetBits(101) index[0], index[1], index[2]; WASM index[0], index[1], index[2], x_corr_5[0], _w[0]; WASM index[0], index[1], index[2], z_corr_5[0], _w[0]; IF ([x_corr_5[0]] == 1) THEN X q[5]; IF ([z_corr_5[0]] == 1) THEN Z q[5]; Measure q[5] --> output[0]; ]"
      ]
     },
     "execution_count": 20,
     "metadata": {},
     "output_type": "execute_result"
    }
   ],
   "source": [
    "circuit.Measure(qubit=circuit.output_qubits[5], bit=output_reg[0])\n"
   ]
  },
  {
   "cell_type": "code",
   "execution_count": 21,
   "metadata": {},
   "outputs": [],
   "source": [
    "api_offline = QuantinuumAPIOffline()\n",
    "backend = QuantinuumBackend(device_name=\"H1-1LE\", api_handler=api_offline)\n",
    "compiled_circuit = backend.get_compiled_circuit(circuit)"
   ]
  },
  {
   "cell_type": "code",
   "execution_count": 23,
   "metadata": {},
   "outputs": [],
   "source": [
    "backend = QuantinuumBackend(\n",
    "    device_name=\"H1-1LE\", api_handler=QuantinuumAPIOffline()\n",
    ")\n",
    "compiled_circuit = backend.get_compiled_circuit(circuit)\n",
    "n_shots = 100"
   ]
  },
  {
   "cell_type": "code",
   "execution_count": 25,
   "metadata": {},
   "outputs": [],
   "source": [
    "result = backend.run_circuit(\n",
    "    circuit=compiled_circuit,\n",
    "    n_shots=n_shots,\n",
    "    wasm_file_handler=get_wasm_file_handler(),\n",
    ")"
   ]
  },
  {
   "cell_type": "code",
   "execution_count": 35,
   "metadata": {},
   "outputs": [
    {
     "data": {
      "text/plain": [
       "array([0.46, 0.54])"
      ]
     },
     "execution_count": 35,
     "metadata": {},
     "output_type": "execute_result"
    }
   ],
   "source": [
    "values = result.get_counts(output_reg).values()\n",
    "values_array = np.array(list(values))\n",
    "total = np.sum(values_array)\n",
    "normalized_values = values_array / total\n",
    "normalized_values"
   ]
  },
  {
   "cell_type": "code",
   "execution_count": 43,
   "metadata": {},
   "outputs": [
    {
     "data": {
      "image/png": "[encoded data removed]",
      "text/plain": [
       "<Figure size 640x480 with 1 Axes>"
      ]
     },
     "metadata": {},
     "output_type": "display_data"
    }
   ],
   "source": [
    "import matplotlib.pyplot as plt\n",
    "\n",
    "# Your data\n",
    "data = np.array([0.46, 0.54])\n",
    "abs_diff = np.diff(data)**2\n",
    "\n",
    "# Create an array with the positions of each bar along the x-axis\n",
    "x_pos = np.arange(len(data))\n",
    "plt.bar(x_pos, data)\n",
    "tick_names = ['0', '1']\n",
    "plt.xticks(x_pos, tick_names)\n",
    "plt.xlabel('Outcome')\n",
    "plt.ylabel('P(Outcome)')    \n",
    "plt.title(f'Outcome probabilities square difference: {abs_diff}')\n",
    "plt.show()"
   ]
  }
 ],
 "metadata": {
  "kernelspec": {
   "display_name": "pytket-mbqc-env",
   "language": "python",
   "name": "python3"
  },
  "language_info": {
   "codemirror_mode": {
    "name": "ipython",
    "version": 3
   },
   "file_extension": ".py",
   "mimetype": "text/x-python",
   "name": "python",
   "nbconvert_exporter": "python",
   "pygments_lexer": "ipython3",
   "version": "3.11.2"
  }
 },
 "nbformat": 4,
 "nbformat_minor": 2
}
