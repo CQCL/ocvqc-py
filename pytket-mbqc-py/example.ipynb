{
 "cells": [
  {
   "cell_type": "markdown",
   "id": "cd0cac24",
   "metadata": {},
   "source": [
    "# `pytket-mbqc` Simple Example\n",
    "Here we present some simple use cases of `pytket-mbqc`."
   ]
  },
  {
   "cell_type": "markdown",
   "id": "70240c3a",
   "metadata": {},
   "source": [
    "## X Gate\n",
    "The X can be implemented in brickwork style MBQC as the sequence H-Rz(pi)-H = J(pi)-H. This requires a three qubit cluster state entangle in a line. This is constructed by initialising an input qubit, a graph vertex and an output vertex. These are then connected in a line and measured together at the end."
   ]
  },
  {
   "cell_type": "code",
   "execution_count": null,
   "id": "a73fb540",
   "metadata": {},
   "outputs": [],
   "source": [
    "import networkx as nx\n",
    "from pytket.circuit.display import render_circuit_jupyter\n",
    "from pytket.unit_id import BitRegister\n",
    "\n",
    "from pytket_mbqc_py import GraphCircuit\n",
    "\n",
    "circuit = GraphCircuit(n_qubits_total=3)\n",
    "\n",
    "input_qubit, index_one = circuit.add_input_vertex()\n",
    "\n",
    "circuit.add_graph_vertex()\n",
    "circuit.add_edge(vertex_one=0, vertex_two=1)\n",
    "\n",
    "circuit.add_output_vertex()\n",
    "circuit.add_edge(vertex_one=1, vertex_two=2)\n",
    "\n",
    "circuit.corrected_measure(vertex=0, t_multiple=0)\n",
    "circuit.corrected_measure(vertex=1, t_multiple=4)\n",
    "circuit._apply_correction(vertex=2)\n",
    "\n",
    "output_reg = BitRegister(name='output', size=1)\n",
    "circuit.add_c_register(register=output_reg)\n",
    "circuit.Measure(qubit=circuit.output_qubits[2], bit=output_reg[0])\n",
    "\n",
    "print(*circuit.get_commands(), sep='\\n')\n",
    "nx.draw(circuit.graph, with_labels=True)"
   ]
  },
  {
   "cell_type": "markdown",
   "id": "b2716258",
   "metadata": {},
   "source": [
    "Let us run the resulting circuit. We should recover the 1 state 100% of the time as we are applying an X gate to the 0 state."
   ]
  },
  {
   "cell_type": "code",
   "execution_count": null,
   "id": "9fba1a38",
   "metadata": {},
   "outputs": [],
   "source": [
    "from pytket.extensions.quantinuum import QuantinuumAPIOffline, QuantinuumBackend\n",
    "\n",
    "from pytket_mbqc_py import get_wasm_file_handler\n",
    "\n",
    "backend = QuantinuumBackend(\n",
    "    device_name=\"H1-1LE\",\n",
    "    api_handler=QuantinuumAPIOffline(),\n",
    ")\n",
    "\n",
    "compiled_circuit = backend.get_compiled_circuit(circuit)\n",
    "result = backend.run_circuit(\n",
    "    circuit=compiled_circuit,\n",
    "    n_shots=100,\n",
    "    wasm_file_handler=get_wasm_file_handler(),\n",
    ")\n",
    "\n",
    "result.get_counts(output_reg)"
   ]
  },
  {
   "cell_type": "markdown",
   "id": "f546b2ca",
   "metadata": {},
   "source": [
    "## CX Gate\n",
    "The CX gate is more complicated. In this case the gate can be decomposed into brickwork MBQC native operations as H_2 - CZ - H_1 - H-2 H_1 - H_2 - H_2 where unserscore gives the qubit the operation acts on. Recall that CZ - H_1 - H_2 is the native two qubit gate in brickwork MBQC. We can construct this circuit as follows.\n",
    "\n",
    "Note that in this case qubits can be measured before the whole graph state has been constructed. This allows for some qubits to be reused in this case."
   ]
  },
  {
   "cell_type": "code",
   "execution_count": null,
   "id": "31d6220c",
   "metadata": {},
   "outputs": [],
   "source": [
    "input_state = (1,0)\n",
    "\n",
    "circuit = GraphCircuit(n_qubits_total=5)\n",
    "\n",
    "target_qubit, _ = circuit.add_input_vertex()\n",
    "if input_state[1]:\n",
    "    circuit.X(target_qubit)\n",
    "\n",
    "circuit.add_graph_vertex()\n",
    "circuit.add_edge(vertex_one=0, vertex_two=1)\n",
    "\n",
    "control_qubit, _ = circuit.add_input_vertex()\n",
    "if input_state[0]:\n",
    "    circuit.X(control_qubit)\n",
    "\n",
    "circuit.add_graph_vertex()\n",
    "circuit.add_edge(vertex_one=1, vertex_two=3)\n",
    "circuit.corrected_measure(vertex=0, t_multiple=0)\n",
    "\n",
    "circuit.add_graph_vertex()\n",
    "circuit.add_edge(vertex_one=2, vertex_two=4)\n",
    "\n",
    "circuit.add_graph_vertex()\n",
    "circuit.add_edge(vertex_one=3, vertex_two=5)\n",
    "circuit.corrected_measure(vertex=1, t_multiple=0)\n",
    "\n",
    "circuit.add_output_vertex()\n",
    "circuit.add_edge(vertex_one=4, vertex_two=6)\n",
    "circuit.corrected_measure(vertex=2, t_multiple=0)\n",
    "\n",
    "circuit.add_output_vertex()\n",
    "circuit.add_edge(vertex_one=5, vertex_two=7)\n",
    "\n",
    "circuit.add_edge(vertex_one=5, vertex_two=6)\n",
    "\n",
    "circuit.corrected_measure(vertex=3, t_multiple=0)\n",
    "circuit.corrected_measure(vertex=4, t_multiple=0)\n",
    "circuit.corrected_measure(vertex=5, t_multiple=0)\n",
    "\n",
    "circuit.correct_outputs()\n",
    "output_reg = BitRegister(name='output', size=2)\n",
    "circuit.add_c_register(register=output_reg)\n",
    "circuit.Measure(qubit=circuit.output_qubits[6], bit=output_reg[0])\n",
    "circuit.Measure(qubit=circuit.output_qubits[7], bit=output_reg[1])\n",
    "\n",
    "nx.draw(circuit.graph, with_labels=True)"
   ]
  },
  {
   "cell_type": "markdown",
   "id": "cd49b0a3",
   "metadata": {},
   "source": [
    "Having initialised the |10> state above we expect to measure |11> 100% of the time, as we indeed do."
   ]
  },
  {
   "cell_type": "code",
   "execution_count": null,
   "id": "ecc28967",
   "metadata": {},
   "outputs": [],
   "source": [
    "compiled_circuit = backend.get_compiled_circuit(circuit)\n",
    "\n",
    "n_shots = 100\n",
    "result = backend.run_circuit(\n",
    "    circuit=compiled_circuit,\n",
    "    n_shots=n_shots,\n",
    "    wasm_file_handler=get_wasm_file_handler(),\n",
    ")\n",
    "\n",
    "result.get_counts(output_reg)"
   ]
  }
 ],
 "metadata": {
  "kernelspec": {
   "display_name": "Python 3 (ipykernel)",
   "language": "python",
   "name": "python3"
  },
  "language_info": {
   "codemirror_mode": {
    "name": "ipython",
    "version": 3
   },
   "file_extension": ".py",
   "mimetype": "text/x-python",
   "name": "python",
   "nbconvert_exporter": "python",
   "pygments_lexer": "ipython3",
   "version": "3.11.7"
  }
 },
 "nbformat": 4,
 "nbformat_minor": 5
}
