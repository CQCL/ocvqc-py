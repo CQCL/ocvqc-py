{
 "cells": [
  {
   "cell_type": "markdown",
   "id": "cd0cac24",
   "metadata": {},
   "source": [
    "# `pytket-mbqc` Simple Example\n",
    "Here we present some simple use cases of `pytket-mbqc`."
   ]
  },
  {
   "cell_type": "markdown",
   "id": "70240c3a",
   "metadata": {},
   "source": [
    "## X Gate\n",
    "The X can be implemented in brickwork style MBQC as the sequence H-Rz(pi)-H = J(pi)-H. This requires a three qubit cluster state entangle in a line. This is constructed by initialising an input qubit, a graph vertex and an output vertex. These are then connected in a line and measured together at the end."
   ]
  },
  {
   "cell_type": "code",
<<<<<<< HEAD
   "execution_count": 48,
=======
   "execution_count": 73,
>>>>>>> 1184fcbf (added two methods in qubit manager)
   "id": "a73fb540",
   "metadata": {},
   "outputs": [
    {
     "name": "stdout",
     "output_type": "stream",
     "text": [
      "WASM _w[0];\n",
      "SetBits(00) index[0], index[1];\n",
      "SetBits(0) meas_0[0];\n",
      "SetBits(0) meas_1[0];\n",
      "SetBits(0) meas_2[0];\n",
      "Reset q[1];\n",
      "Reset q[2];\n",
      "SetBits(0) x_corr_0[0];\n",
      "SetBits(0) x_corr_1[0];\n",
      "SetBits(0) x_corr_2[0];\n",
      "SetBits(0) z_corr_0[0];\n",
      "SetBits(0) z_corr_1[0];\n",
      "SetBits(0) z_corr_2[0];\n",
      "WASM index[0], index[1], x_corr_0[0], _w[0];\n",
      "H q[1];\n",
      "H q[2];\n",
      "WASM index[0], index[1], z_corr_0[0], _w[0];\n",
      "CZ q[0], q[1];\n",
      "SetBits(10) index[0], index[1];\n",
      "IF ([x_corr_0[0]] == 1) THEN X q[0];\n",
      "CZ q[1], q[2];\n",
      "IF ([z_corr_0[0]] == 1) THEN Z q[0];\n",
      "H q[0];\n",
      "Measure q[0] --> meas_0[0];\n",
      "WASM meas_0[0], index[0], index[1], _w[0];\n",
      "SetBits(01) index[0], index[1];\n",
      "WASM meas_0[0], index[0], index[1], _w[0];\n",
      "SetBits(10) index[0], index[1];\n",
      "WASM index[0], index[1], x_corr_1[0], _w[0];\n",
      "WASM index[0], index[1], z_corr_1[0], _w[0];\n",
      "IF ([x_corr_1[0]] == 1) THEN X q[1];\n",
      "SetBits(01) index[0], index[1];\n",
      "IF ([z_corr_1[0]] == 1) THEN Z q[1];\n",
      "Z q[1];\n",
      "H q[1];\n",
      "Measure q[1] --> meas_1[0];\n",
      "WASM meas_1[0], index[0], index[1], _w[0];\n",
      "SetBits(01) index[0], index[1];\n",
      "WASM index[0], index[1], x_corr_2[0], _w[0];\n",
      "WASM index[0], index[1], z_corr_2[0], _w[0];\n",
      "IF ([x_corr_2[0]] == 1) THEN X q[2];\n",
      "IF ([z_corr_2[0]] == 1) THEN Z q[2];\n",
      "Measure q[2] --> output[0];\n"
     ]
    },
    {
     "data": {
<<<<<<< HEAD
      "image/png": "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",
=======
      "image/png": "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",
>>>>>>> 1184fcbf (added two methods in qubit manager)
      "text/plain": [
       "<Figure size 640x480 with 1 Axes>"
      ]
     },
     "metadata": {},
     "output_type": "display_data"
    }
   ],
   "source": [
    "from pytket_mbqc_py import GraphCircuit\n",
    "from pytket.unit_id import BitRegister\n",
    "import networkx as nx\n",
    "from pytket.circuit.display import render_circuit_jupyter\n",
    "\n",
    "circuit = GraphCircuit(n_qubits_total=3)\n",
    "\n",
    "input_qubit, index_one = circuit.add_input_vertex()\n",
    "\n",
    "circuit.add_graph_vertex()\n",
    "circuit.add_edge(vertex_one=0, vertex_two=1)\n",
    "\n",
    "circuit.add_output_vertex()\n",
    "circuit.add_edge(vertex_one=1, vertex_two=2)\n",
    "\n",
    "circuit.corrected_measure(vertex=0, t_multiple=0)\n",
    "circuit.corrected_measure(vertex=1, t_multiple=4)\n",
    "circuit._apply_correction(vertex=2)\n",
    "\n",
    "output_reg = BitRegister(name='output', size=1)\n",
    "circuit.add_c_register(register=output_reg)\n",
    "circuit.Measure(qubit=circuit.output_qubits[2], bit=output_reg[0])\n",
    "\n",
    "print(*circuit.get_commands(), sep='\\n')\n",
    "nx.draw(circuit.graph, with_labels=True)"
   ]
  },
  {
   "cell_type": "markdown",
   "id": "b2716258",
   "metadata": {},
   "source": [
    "Let us run the resulting circuit. We should recover the 1 state 100% of the time as we are applying an X gate to the 0 state."
   ]
  },
  {
   "cell_type": "code",
<<<<<<< HEAD
   "execution_count": 41,
   "id": "cfb3660b",
   "metadata": {},
   "outputs": [
    {
     "data": {
      "text/plain": [
       "Counter({(1,): 100})"
      ]
     },
     "execution_count": 74,
     "metadata": {},
     "output_type": "execute_result"
    }
   ],
   "source": [
    "def get_colouring_dict(graph):\n",
    "    coloring = nx.algorithms.coloring.greedy_color(graph)\n",
    "    sorted_dict = dict(sorted(coloring.items()))\n",
    "    return sorted_dict\n"
   ]
  },
  {
   "cell_type": "code",
   "execution_count": 71,
   "id": "e377d1f8",
=======
   "execution_count": 74,
   "id": "9fba1a38",
>>>>>>> 1184fcbf (added two methods in qubit manager)
   "metadata": {},
   "outputs": [
    {
     "data": {
      "text/plain": [
       "Counter({(1,): 100})"
      ]
     },
     "execution_count": 74,
     "metadata": {},
     "output_type": "execute_result"
    }
   ],
   "source": [
    "def get_colouring_lists(colouring):\n",
    "    unique_colors = set(colouring.values())\n",
    "    lists_col = [[int(value == unique) for key, value in colouring.items()] for unique in unique_colors]\n",
    "    return lists_col\n"
   ]
  },
  {
   "cell_type": "code",
   "execution_count": 72,
   "id": "dea94962",
   "metadata": {},
   "outputs": [
    {
     "name": "stdout",
     "output_type": "stream",
     "text": [
      "[[0, 1, 0], [1, 0, 1]]\n"
     ]
    }
   ],
   "source": [
    "graph = circuit.graph\n",
    "colouring = get_colouring_dict(graph)\n",
    "colouring_lists = get_colouring_lists(colouring)\n",
    "print(colouring_lists)\n"
   ]
  },
  {
   "cell_type": "code",
   "execution_count": 67,
   "id": "593bae8c",
   "metadata": {},
   "outputs": [
    {
     "data": {
      "text/plain": [
       "set"
      ]
     },
     "execution_count": 67,
     "metadata": {},
     "output_type": "execute_result"
    }
   ],
   "source": [
    "type(set(colouring.values()))\n",
    "   "
   ]
  },
  {
   "cell_type": "code",
   "execution_count": 63,
   "id": "4d7a7f83",
   "metadata": {},
   "outputs": [
    {
     "ename": "TypeError",
     "evalue": "cannot unpack non-iterable int object",
     "output_type": "error",
     "traceback": [
      "\u001b[0;31m---------------------------------------------------------------------------\u001b[0m",
      "\u001b[0;31mTypeError\u001b[0m                                 Traceback (most recent call last)",
      "Cell \u001b[0;32mIn[63], line 1\u001b[0m\n\u001b[0;32m----> 1\u001b[0m \u001b[43m[\u001b[49m\u001b[43m[\u001b[49m\u001b[38;5;28;43mint\u001b[39;49m\u001b[43m(\u001b[49m\u001b[43mvalue\u001b[49m\u001b[43m \u001b[49m\u001b[38;5;241;43m==\u001b[39;49m\u001b[43m \u001b[49m\u001b[43munique\u001b[49m\u001b[43m)\u001b[49m\u001b[43m \u001b[49m\u001b[38;5;28;43;01mfor\u001b[39;49;00m\u001b[43m \u001b[49m\u001b[43mkey\u001b[49m\u001b[43m,\u001b[49m\u001b[43m \u001b[49m\u001b[43mvalue\u001b[49m\u001b[43m \u001b[49m\u001b[38;5;129;43;01min\u001b[39;49;00m\u001b[43m \u001b[49m\u001b[43mcolouring\u001b[49m\u001b[43m]\u001b[49m\u001b[43m \u001b[49m\u001b[38;5;28;43;01mfor\u001b[39;49;00m\u001b[43m \u001b[49m\u001b[43munique\u001b[49m\u001b[43m \u001b[49m\u001b[38;5;129;43;01min\u001b[39;49;00m\u001b[43m \u001b[49m\u001b[43munique_colors\u001b[49m\u001b[43m]\u001b[49m\n",
      "Cell \u001b[0;32mIn[63], line 1\u001b[0m, in \u001b[0;36m<listcomp>\u001b[0;34m(.0)\u001b[0m\n\u001b[0;32m----> 1\u001b[0m [\u001b[43m[\u001b[49m\u001b[38;5;28;43mint\u001b[39;49m\u001b[43m(\u001b[49m\u001b[43mvalue\u001b[49m\u001b[43m \u001b[49m\u001b[38;5;241;43m==\u001b[39;49m\u001b[43m \u001b[49m\u001b[43munique\u001b[49m\u001b[43m)\u001b[49m\u001b[43m \u001b[49m\u001b[38;5;28;43;01mfor\u001b[39;49;00m\u001b[43m \u001b[49m\u001b[43mkey\u001b[49m\u001b[43m,\u001b[49m\u001b[43m \u001b[49m\u001b[43mvalue\u001b[49m\u001b[43m \u001b[49m\u001b[38;5;129;43;01min\u001b[39;49;00m\u001b[43m \u001b[49m\u001b[43mcolouring\u001b[49m\u001b[43m]\u001b[49m \u001b[38;5;28;01mfor\u001b[39;00m unique \u001b[38;5;129;01min\u001b[39;00m unique_colors]\n",
      "Cell \u001b[0;32mIn[63], line 1\u001b[0m, in \u001b[0;36m<listcomp>\u001b[0;34m(.0)\u001b[0m\n\u001b[0;32m----> 1\u001b[0m [[\u001b[38;5;28mint\u001b[39m(value \u001b[38;5;241m==\u001b[39m unique) \u001b[38;5;28;01mfor\u001b[39;00m key, value \u001b[38;5;129;01min\u001b[39;00m colouring] \u001b[38;5;28;01mfor\u001b[39;00m unique \u001b[38;5;129;01min\u001b[39;00m unique_colors]\n",
      "\u001b[0;31mTypeError\u001b[0m: cannot unpack non-iterable int object"
     ]
    }
   ],
   "source": [
    " [[int(value == unique) for key, value in colouring] for unique in unique_colors]"
   ]
  },
  {
   "cell_type": "code",
   "execution_count": 66,
   "id": "1404a351",
   "metadata": {},
   "outputs": [
    {
     "data": {
      "text/plain": [
       "dict"
      ]
     },
     "execution_count": 66,
     "metadata": {},
     "output_type": "execute_result"
    }
   ],
   "source": [
    "type(colouring)"
   ]
  },
  {
   "cell_type": "code",
   "execution_count": 44,
   "id": "d1b39ed6",
   "metadata": {},
   "outputs": [
    {
     "data": {
      "image/png": "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",
      "text/plain": [
       "<Figure size 640x480 with 1 Axes>"
      ]
     },
     "metadata": {},
     "output_type": "display_data"
    }
   ],
   "source": [
    "color_map = [coloring[node] for node in G.nodes]\n",
    "\n",
    "# Draw the graph with the color map\n",
    "nx.draw(G, node_color=color_map, with_labels=True)\n"
   ]
  },
  {
   "cell_type": "code",
   "execution_count": 45,
   "id": "9fba1a38",
   "metadata": {},
   "outputs": [
    {
     "data": {
      "text/plain": [
       "Counter({(1,): 100})"
      ]
     },
     "execution_count": 45,
     "metadata": {},
     "output_type": "execute_result"
    }
   ],
   "source": [
    "from pytket_mbqc_py import get_wasm_file_handler\n",
    "from pytket.extensions.quantinuum import QuantinuumBackend, QuantinuumAPIOffline\n",
    "\n",
    "backend = QuantinuumBackend(\n",
    "    device_name=\"H1-1LE\",\n",
    "    api_handler=QuantinuumAPIOffline(),\n",
    ")\n",
    "\n",
    "compiled_circuit = backend.get_compiled_circuit(circuit)\n",
    "result = backend.run_circuit(\n",
    "    circuit=compiled_circuit,\n",
    "    n_shots=100,\n",
    "    wasm_file_handler=get_wasm_file_handler(),\n",
    ")\n",
    "\n",
    "result.get_counts(output_reg)"
   ]
  },
  {
   "cell_type": "markdown",
   "id": "f546b2ca",
   "metadata": {},
   "source": [
    "## CX Gate\n",
    "The CX gate is more complicated. In this case the gate can be decomposed into brickwork MBQC native operations as H_2 - CZ - H_1 - H-2 H_1 - H_2 - H_2 where unserscore gives the qubit the operation acts on. Recall that CZ - H_1 - H_2 is the native two qubit gate in brickwork MBQC. We can construct this circuit as follows.\n",
    "\n",
    "Note that in this case qubits can be measured before the whole graph state has been constructed. This allows for some qubits to be reused in this case."
   ]
  },
  {
   "cell_type": "code",
<<<<<<< HEAD
   "execution_count": 46,
=======
   "execution_count": 75,
>>>>>>> 1184fcbf (added two methods in qubit manager)
   "id": "31d6220c",
   "metadata": {},
   "outputs": [
    {
     "data": {
<<<<<<< HEAD
      "image/png": "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",
=======
      "image/png": "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",
>>>>>>> 1184fcbf (added two methods in qubit manager)
      "text/plain": [
       "<Figure size 640x480 with 1 Axes>"
      ]
     },
     "metadata": {},
     "output_type": "display_data"
    }
   ],
   "source": [
    "input_state = (1,0)\n",
    "\n",
    "circuit = GraphCircuit(n_qubits_total=5)\n",
    "\n",
    "target_qubit, _ = circuit.add_input_vertex()\n",
    "if input_state[1]:\n",
    "    circuit.X(target_qubit)\n",
    "\n",
    "circuit.add_graph_vertex()\n",
    "circuit.add_edge(vertex_one=0, vertex_two=1)\n",
    "\n",
    "control_qubit, _ = circuit.add_input_vertex()\n",
    "if input_state[0]:\n",
    "    circuit.X(control_qubit)\n",
    "\n",
    "circuit.add_graph_vertex()\n",
    "circuit.add_edge(vertex_one=1, vertex_two=3)\n",
    "circuit.corrected_measure(vertex=0, t_multiple=0)\n",
    "\n",
    "circuit.add_graph_vertex()\n",
    "circuit.add_edge(vertex_one=2, vertex_two=4)\n",
    "\n",
    "circuit.add_graph_vertex()\n",
    "circuit.add_edge(vertex_one=3, vertex_two=5)\n",
    "circuit.corrected_measure(vertex=1, t_multiple=0)\n",
    "\n",
    "circuit.add_output_vertex()\n",
    "circuit.add_edge(vertex_one=4, vertex_two=6)\n",
    "circuit.corrected_measure(vertex=2, t_multiple=0)\n",
    "\n",
    "circuit.add_output_vertex()\n",
    "circuit.add_edge(vertex_one=5, vertex_two=7)\n",
    "\n",
    "circuit.add_edge(vertex_one=5, vertex_two=6)\n",
    "\n",
    "circuit.corrected_measure(vertex=3, t_multiple=0)\n",
    "circuit.corrected_measure(vertex=4, t_multiple=0)\n",
    "circuit.corrected_measure(vertex=5, t_multiple=0)\n",
    "\n",
    "circuit.correct_outputs()\n",
    "output_reg = BitRegister(name='output', size=2)\n",
    "circuit.add_c_register(register=output_reg)\n",
    "circuit.Measure(qubit=circuit.output_qubits[6], bit=output_reg[0])\n",
    "circuit.Measure(qubit=circuit.output_qubits[7], bit=output_reg[1])\n",
    "\n",
    "nx.draw(circuit.graph, with_labels=True)"
   ]
  },
  {
   "cell_type": "markdown",
   "id": "cd49b0a3",
   "metadata": {},
   "source": [
    "Having initialised the |10> state above we expect to measure |11> 100% of the time, as we indeed do."
   ]
  },
  {
   "cell_type": "code",
   "execution_count": 47,
   "id": "ecc28967",
   "metadata": {},
   "outputs": [
    {
     "data": {
      "text/plain": [
       "Counter({(1, 1): 100})"
      ]
     },
     "execution_count": 47,
     "metadata": {},
     "output_type": "execute_result"
    }
   ],
   "source": [
    "compiled_circuit = backend.get_compiled_circuit(circuit)\n",
    "\n",
    "n_shots = 100\n",
    "result = backend.run_circuit(\n",
    "    circuit=compiled_circuit,\n",
    "    n_shots=n_shots,\n",
    "    wasm_file_handler=get_wasm_file_handler(),\n",
    ")\n",
    "\n",
    "result.get_counts(output_reg)"
   ]
  },
  {
   "cell_type": "code",
   "execution_count": 76,
   "id": "dd5ec55b",
   "metadata": {},
   "outputs": [
    {
     "data": {
      "text/plain": [
       "True"
      ]
     },
     "execution_count": 76,
     "metadata": {},
     "output_type": "execute_result"
    }
   ],
   "source": [
    "True is not False"
   ]
  },
  {
   "cell_type": "code",
   "execution_count": 77,
   "id": "427a4208",
   "metadata": {},
   "outputs": [],
   "source": [
    "def test(c,ca=None):\n",
    "    if ca is None:\n",
    "        ca = c\n",
    "    print(c, ca)"
   ]
  },
  {
   "cell_type": "code",
   "execution_count": 79,
   "id": "09362367",
   "metadata": {},
   "outputs": [
    {
     "name": "stdout",
     "output_type": "stream",
     "text": [
      "1 3\n"
     ]
    }
   ],
   "source": [
    "test(1,3)"
   ]
  },
  {
   "cell_type": "code",
   "execution_count": 82,
   "id": "1d662699",
   "metadata": {},
   "outputs": [
    {
     "name": "stdout",
     "output_type": "stream",
     "text": [
      "1\n"
     ]
    }
   ],
   "source": [
    "import random\n",
    "\n",
    "random_number = random.randint(0, 1)\n",
    "print(random_number)"
   ]
  },
  {
   "cell_type": "code",
   "execution_count": null,
   "id": "0294296f",
   "metadata": {},
   "outputs": [],
   "source": []
  },
  {
   "cell_type": "code",
   "execution_count": null,
   "id": "e6540cce",
   "metadata": {},
   "outputs": [],
   "source": []
  }
 ],
 "metadata": {
  "kernelspec": {
   "display_name": "Python 3 (ipykernel)",
   "language": "python",
   "name": "python3"
  },
  "language_info": {
   "codemirror_mode": {
    "name": "ipython",
    "version": 3
   },
   "file_extension": ".py",
   "mimetype": "text/x-python",
   "name": "python",
   "nbconvert_exporter": "python",
   "pygments_lexer": "ipython3",
   "version": "3.11.2"
  }
 },
 "nbformat": 4,
 "nbformat_minor": 5
}
